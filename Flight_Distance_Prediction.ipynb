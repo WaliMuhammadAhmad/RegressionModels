{
 "cells": [
  {
   "cell_type": "code",
   "execution_count": 1,
   "metadata": {
    "_cell_guid": "b1076dfc-b9ad-4769-8c92-a6c4dae69d19",
    "_uuid": "8f2839f25d086af736a60e9eeb907d3b93b6e0e5",
    "execution": {
     "iopub.execute_input": "2024-05-01T09:29:05.967187Z",
     "iopub.status.busy": "2024-05-01T09:29:05.966503Z",
     "iopub.status.idle": "2024-05-01T09:29:05.973457Z",
     "shell.execute_reply": "2024-05-01T09:29:05.972411Z",
     "shell.execute_reply.started": "2024-05-01T09:29:05.967145Z"
    }
   },
   "outputs": [],
   "source": [
    "import numpy as np\n",
    "import pandas as pd\n",
    "import os\n",
    "import matplotlib.pyplot as plt\n",
    "from sklearn.model_selection import train_test_split\n",
    "from sklearn.linear_model import LinearRegression\n",
    "from sklearn.metrics import mean_squared_error, r2_score"
   ]
  },
  {
   "cell_type": "code",
   "execution_count": 2,
   "metadata": {
    "execution": {
     "iopub.execute_input": "2024-05-01T10:14:06.828611Z",
     "iopub.status.busy": "2024-05-01T10:14:06.828133Z",
     "iopub.status.idle": "2024-05-01T10:14:31.020656Z",
     "shell.execute_reply": "2024-05-01T10:14:31.019243Z",
     "shell.execute_reply.started": "2024-05-01T10:14:06.828572Z"
    }
   },
   "outputs": [],
   "source": [
    "os.chdir(r'dataset')"
   ]
  },
  {
   "cell_type": "code",
   "execution_count": 3,
   "metadata": {
    "execution": {
     "iopub.execute_input": "2024-05-01T09:03:41.545699Z",
     "iopub.status.busy": "2024-05-01T09:03:41.545211Z",
     "iopub.status.idle": "2024-05-01T09:03:41.573470Z",
     "shell.execute_reply": "2024-05-01T09:03:41.571827Z",
     "shell.execute_reply.started": "2024-05-01T09:03:41.545663Z"
    }
   },
   "outputs": [
    {
     "data": {
      "text/html": [
       "<div>\n",
       "<style scoped>\n",
       "    .dataframe tbody tr th:only-of-type {\n",
       "        vertical-align: middle;\n",
       "    }\n",
       "\n",
       "    .dataframe tbody tr th {\n",
       "        vertical-align: top;\n",
       "    }\n",
       "\n",
       "    .dataframe thead th {\n",
       "        text-align: right;\n",
       "    }\n",
       "</style>\n",
       "<table border=\"1\" class=\"dataframe\">\n",
       "  <thead>\n",
       "    <tr style=\"text-align: right;\">\n",
       "      <th></th>\n",
       "      <th>SCHEDULED_DEPARTURE</th>\n",
       "      <th>DEPARTURE_TIME</th>\n",
       "      <th>DEPARTURE_DELAY</th>\n",
       "      <th>SCHEDULED_TIME</th>\n",
       "      <th>DISTANCE</th>\n",
       "      <th>SCHEDULED_ARRIVAL</th>\n",
       "      <th>ARRIVAL_TIME</th>\n",
       "      <th>AIR_TIME</th>\n",
       "    </tr>\n",
       "  </thead>\n",
       "  <tbody>\n",
       "    <tr>\n",
       "      <th>0</th>\n",
       "      <td>545</td>\n",
       "      <td>545</td>\n",
       "      <td>0</td>\n",
       "      <td>100</td>\n",
       "      <td>413</td>\n",
       "      <td>725</td>\n",
       "      <td>705</td>\n",
       "      <td>65</td>\n",
       "    </tr>\n",
       "    <tr>\n",
       "      <th>1</th>\n",
       "      <td>1620</td>\n",
       "      <td>1618</td>\n",
       "      <td>-2</td>\n",
       "      <td>108</td>\n",
       "      <td>554</td>\n",
       "      <td>1808</td>\n",
       "      <td>1752</td>\n",
       "      <td>73</td>\n",
       "    </tr>\n",
       "    <tr>\n",
       "      <th>2</th>\n",
       "      <td>1513</td>\n",
       "      <td>1519</td>\n",
       "      <td>6</td>\n",
       "      <td>181</td>\n",
       "      <td>1024</td>\n",
       "      <td>1714</td>\n",
       "      <td>1702</td>\n",
       "      <td>147</td>\n",
       "    </tr>\n",
       "    <tr>\n",
       "      <th>3</th>\n",
       "      <td>1302</td>\n",
       "      <td>1258</td>\n",
       "      <td>-4</td>\n",
       "      <td>73</td>\n",
       "      <td>331</td>\n",
       "      <td>1415</td>\n",
       "      <td>1410</td>\n",
       "      <td>51</td>\n",
       "    </tr>\n",
       "    <tr>\n",
       "      <th>4</th>\n",
       "      <td>645</td>\n",
       "      <td>638</td>\n",
       "      <td>-7</td>\n",
       "      <td>155</td>\n",
       "      <td>889</td>\n",
       "      <td>820</td>\n",
       "      <td>758</td>\n",
       "      <td>127</td>\n",
       "    </tr>\n",
       "  </tbody>\n",
       "</table>\n",
       "</div>"
      ],
      "text/plain": [
       "   SCHEDULED_DEPARTURE  DEPARTURE_TIME  DEPARTURE_DELAY  SCHEDULED_TIME  \\\n",
       "0                  545             545                0             100   \n",
       "1                 1620            1618               -2             108   \n",
       "2                 1513            1519                6             181   \n",
       "3                 1302            1258               -4              73   \n",
       "4                  645             638               -7             155   \n",
       "\n",
       "   DISTANCE  SCHEDULED_ARRIVAL  ARRIVAL_TIME  AIR_TIME  \n",
       "0       413                725           705        65  \n",
       "1       554               1808          1752        73  \n",
       "2      1024               1714          1702       147  \n",
       "3       331               1415          1410        51  \n",
       "4       889                820           758       127  "
      ]
     },
     "execution_count": 3,
     "metadata": {},
     "output_type": "execute_result"
    }
   ],
   "source": [
    "df = pd.read_csv('FLIGHT-2015.csv')\n",
    "df.head()"
   ]
  },
  {
   "cell_type": "code",
   "execution_count": 4,
   "metadata": {},
   "outputs": [
    {
     "name": "stdout",
     "output_type": "stream",
     "text": [
      "<class 'pandas.core.frame.DataFrame'>\n",
      "RangeIndex: 10000 entries, 0 to 9999\n",
      "Data columns (total 8 columns):\n",
      " #   Column               Non-Null Count  Dtype\n",
      "---  ------               --------------  -----\n",
      " 0   SCHEDULED_DEPARTURE  10000 non-null  int64\n",
      " 1   DEPARTURE_TIME       10000 non-null  int64\n",
      " 2   DEPARTURE_DELAY      10000 non-null  int64\n",
      " 3   SCHEDULED_TIME       10000 non-null  int64\n",
      " 4   DISTANCE             10000 non-null  int64\n",
      " 5   SCHEDULED_ARRIVAL    10000 non-null  int64\n",
      " 6   ARRIVAL_TIME         10000 non-null  int64\n",
      " 7   AIR_TIME             10000 non-null  int64\n",
      "dtypes: int64(8)\n",
      "memory usage: 625.1 KB\n"
     ]
    }
   ],
   "source": [
    "df.info()"
   ]
  },
  {
   "cell_type": "code",
   "execution_count": 5,
   "metadata": {
    "execution": {
     "iopub.execute_input": "2024-05-01T10:20:44.523343Z",
     "iopub.status.busy": "2024-05-01T10:20:44.522828Z",
     "iopub.status.idle": "2024-05-01T10:20:44.601780Z",
     "shell.execute_reply": "2024-05-01T10:20:44.600493Z",
     "shell.execute_reply.started": "2024-05-01T10:20:44.523309Z"
    }
   },
   "outputs": [],
   "source": [
    "X = df.drop('DISTANCE',axis=1)\n",
    "y = df['DISTANCE']"
   ]
  },
  {
   "cell_type": "code",
   "execution_count": 6,
   "metadata": {
    "execution": {
     "iopub.execute_input": "2024-05-01T10:34:55.590858Z",
     "iopub.status.busy": "2024-05-01T10:34:55.590287Z",
     "iopub.status.idle": "2024-05-01T10:34:55.908068Z",
     "shell.execute_reply": "2024-05-01T10:34:55.906675Z",
     "shell.execute_reply.started": "2024-05-01T10:34:55.590817Z"
    }
   },
   "outputs": [
    {
     "data": {
      "text/plain": [
       "(10000, 7)"
      ]
     },
     "execution_count": 6,
     "metadata": {},
     "output_type": "execute_result"
    }
   ],
   "source": [
    "X.shape"
   ]
  },
  {
   "cell_type": "code",
   "execution_count": 7,
   "metadata": {
    "execution": {
     "iopub.execute_input": "2024-05-01T10:35:08.227397Z",
     "iopub.status.busy": "2024-05-01T10:35:08.226431Z",
     "iopub.status.idle": "2024-05-01T10:35:08.244209Z",
     "shell.execute_reply": "2024-05-01T10:35:08.242980Z",
     "shell.execute_reply.started": "2024-05-01T10:35:08.227352Z"
    }
   },
   "outputs": [],
   "source": [
    "X_train,X_test,y_train,y_test = train_test_split(X,y,test_size=0.2,random_state=42)"
   ]
  },
  {
   "cell_type": "code",
   "execution_count": 8,
   "metadata": {
    "execution": {
     "iopub.execute_input": "2024-05-01T10:35:46.333392Z",
     "iopub.status.busy": "2024-05-01T10:35:46.332932Z",
     "iopub.status.idle": "2024-05-01T10:35:46.350978Z",
     "shell.execute_reply": "2024-05-01T10:35:46.349526Z",
     "shell.execute_reply.started": "2024-05-01T10:35:46.333354Z"
    }
   },
   "outputs": [],
   "source": [
    "model = LinearRegression()\n",
    "model.fit(X_train, y_train)\n",
    "y_pred = model.predict(X_test)"
   ]
  },
  {
   "cell_type": "code",
   "execution_count": 9,
   "metadata": {
    "execution": {
     "iopub.execute_input": "2024-05-01T10:36:44.461343Z",
     "iopub.status.busy": "2024-05-01T10:36:44.460875Z",
     "iopub.status.idle": "2024-05-01T10:36:44.515295Z",
     "shell.execute_reply": "2024-05-01T10:36:44.514138Z",
     "shell.execute_reply.started": "2024-05-01T10:36:44.461310Z"
    }
   },
   "outputs": [
    {
     "name": "stdout",
     "output_type": "stream",
     "text": [
      "Mean Squared Error: 9191.36958455382\n"
     ]
    }
   ],
   "source": [
    "mse = mean_squared_error(y_test, y_pred)\n",
    "print(\"Mean Squared Error:\", mse)"
   ]
  },
  {
   "cell_type": "code",
   "execution_count": 10,
   "metadata": {
    "execution": {
     "iopub.execute_input": "2024-05-01T10:35:33.416364Z",
     "iopub.status.busy": "2024-05-01T10:35:33.415907Z",
     "iopub.status.idle": "2024-05-01T10:35:33.445911Z",
     "shell.execute_reply": "2024-05-01T10:35:33.444590Z",
     "shell.execute_reply.started": "2024-05-01T10:35:33.416332Z"
    }
   },
   "outputs": [
    {
     "name": "stdout",
     "output_type": "stream",
     "text": [
      "R-squared: 0.9732492406755786\n"
     ]
    }
   ],
   "source": [
    "r2 = r2_score(y_test,y_pred)\n",
    "print(\"R-squared:\", r2)"
   ]
  },
  {
   "cell_type": "code",
   "execution_count": 11,
   "metadata": {
    "execution": {
     "iopub.execute_input": "2024-05-01T10:33:08.580720Z",
     "iopub.status.busy": "2024-05-01T10:33:08.580234Z",
     "iopub.status.idle": "2024-05-01T10:33:08.590248Z",
     "shell.execute_reply": "2024-05-01T10:33:08.588957Z",
     "shell.execute_reply.started": "2024-05-01T10:33:08.580686Z"
    }
   },
   "outputs": [
    {
     "name": "stdout",
     "output_type": "stream",
     "text": [
      "Distance:  1116.9916483719182\n"
     ]
    },
    {
     "name": "stderr",
     "output_type": "stream",
     "text": [
      "C:\\Users\\wali\\anaconda3\\Lib\\site-packages\\sklearn\\base.py:464: UserWarning: X does not have valid feature names, but LinearRegression was fitted with feature names\n",
      "  warnings.warn(\n"
     ]
    }
   ],
   "source": [
    "result= model.predict([[1513,1519,6,181,1714,1702,147]])\n",
    "print(\"Distance: \",result[0])"
   ]
  },
  {
   "cell_type": "code",
   "execution_count": 14,
   "metadata": {},
   "outputs": [],
   "source": [
    "def PredictDistance():\n",
    "    SCHEDULED_DEPARTURE=int(input('Enter SCHEDULED_DEPARTURE:'))\n",
    "    DEPARTURE_TIME=int(input('Enter DEPARTURE_TIME:'))\n",
    "    DEPARTURE_DELAY=int(input('Enter DEPARTURE_DELAY:'))\n",
    "    SCHEDULED_TIME=int(input('Enter SCHEDULED_TIME:'))\n",
    "    SCHEDULED_ARRIVAL=int(input('Enter SCHEDULED_ARRIVAL:'))\n",
    "    ARRIVAL_TIME=int(input('Enter ARRIVAL_TIME:'))\n",
    "    AIR_TIME=int(input('Enter AIR_TIME:'))\n",
    "    features = [[SCHEDULED_DEPARTURE,DEPARTURE_TIME,DEPARTURE_DELAY,SCHEDULED_TIME,SCHEDULED_ARRIVAL,ARRIVAL_TIME,AIR_TIME]]            \n",
    "    Distance = model.predict(features)\n",
    "    print('Distance Covered:',Distance[0])"
   ]
  },
  {
   "cell_type": "code",
   "execution_count": 13,
   "metadata": {},
   "outputs": [
    {
     "name": "stdout",
     "output_type": "stream",
     "text": [
      "Enter SCHEDULED_DEPARTURE:123\n",
      "Enter DEPARTURE_TIME:213\n",
      "Enter DEPARTURE_DELAY:213\n",
      "Enter SCHEDULED_TIME:243\n",
      "Enter SCHEDULED_ARRIVAL:3245\n",
      "Enter ARRIVAL_TIME:324\n",
      "Enter AIR_TIME:324\n",
      "Distance Covered: [2139.22334353]\n"
     ]
    },
    {
     "name": "stderr",
     "output_type": "stream",
     "text": [
      "C:\\Users\\wali\\anaconda3\\Lib\\site-packages\\sklearn\\base.py:464: UserWarning: X does not have valid feature names, but LinearRegression was fitted with feature names\n",
      "  warnings.warn(\n"
     ]
    }
   ],
   "source": [
    "PredictDistance()"
   ]
  }
 ],
 "metadata": {
  "kaggle": {
   "accelerator": "none",
   "dataSources": [
    {
     "datasetId": 4731475,
     "sourceId": 8045235,
     "sourceType": "datasetVersion"
    }
   ],
   "dockerImageVersionId": 30698,
   "isGpuEnabled": false,
   "isInternetEnabled": true,
   "language": "python",
   "sourceType": "notebook"
  },
  "kernelspec": {
   "display_name": "Python 3 (ipykernel)",
   "language": "python",
   "name": "python3"
  },
  "language_info": {
   "codemirror_mode": {
    "name": "ipython",
    "version": 3
   },
   "file_extension": ".py",
   "mimetype": "text/x-python",
   "name": "python",
   "nbconvert_exporter": "python",
   "pygments_lexer": "ipython3",
   "version": "3.11.5"
  }
 },
 "nbformat": 4,
 "nbformat_minor": 4
}
