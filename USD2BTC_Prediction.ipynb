{
 "cells": [
  {
   "cell_type": "code",
   "execution_count": 1,
   "id": "6160f870",
   "metadata": {},
   "outputs": [],
   "source": [
    "import pandas as pd\n",
    "from sklearn.model_selection import train_test_split\n",
    "from sklearn.preprocessing import MinMaxScaler\n",
    "from sklearn.metrics import mean_squared_error, r2_score\n",
    "from sklearn.linear_model import LinearRegression\n",
    "import os"
   ]
  },
  {
   "cell_type": "code",
   "execution_count": 2,
   "id": "4f449869",
   "metadata": {},
   "outputs": [
    {
     "name": "stdout",
     "output_type": "stream",
     "text": [
      " Volume in drive C has no label.\n",
      " Volume Serial Number is 9A3C-60F9\n",
      "\n",
      " Directory of C:\\Users\\wali\\Documents\\Projects\\RegressionModels\\dataset\n",
      "\n",
      "06/15/2024  06:47 PM    <DIR>          .\n",
      "06/17/2024  09:28 PM    <DIR>          ..\n",
      "05/02/2024  01:01 PM           280,246 BTC-USD.csv\n",
      "06/15/2024  06:47 PM            26,717 CarPrice.csv\n",
      "05/02/2024  12:59 PM               109 COMPLETE_FLIGHT_DATASET_2015.txt\n",
      "05/02/2024  12:57 PM         1,500,835 Dry_Bean.csv\n",
      "05/02/2024  12:57 PM           342,976 FLIGHT-2015.csv\n",
      "06/07/2024  09:58 PM         2,296,273 FLIGHT100k.csv\n",
      "06/15/2024  06:37 PM           107,745 infrared_thermography_temperature.csv\n",
      "05/02/2024  12:57 PM            48,136 NHANES_age_prediction.csv\n",
      "05/17/2024  02:40 PM           430,835 Rice_Cammeo_Osmancik.csv\n",
      "06/15/2024  06:40 PM           131,539 SalesData.csv\n",
      "              10 File(s)      5,165,411 bytes\n",
      "               2 Dir(s)  72,052,912,128 bytes free\n"
     ]
    }
   ],
   "source": [
    "os.chdir('dataset')\n",
    "!dir"
   ]
  },
  {
   "cell_type": "code",
   "execution_count": 3,
   "id": "ed6788c1",
   "metadata": {},
   "outputs": [
    {
     "data": {
      "text/html": [
       "<div>\n",
       "<style scoped>\n",
       "    .dataframe tbody tr th:only-of-type {\n",
       "        vertical-align: middle;\n",
       "    }\n",
       "\n",
       "    .dataframe tbody tr th {\n",
       "        vertical-align: top;\n",
       "    }\n",
       "\n",
       "    .dataframe thead th {\n",
       "        text-align: right;\n",
       "    }\n",
       "</style>\n",
       "<table border=\"1\" class=\"dataframe\">\n",
       "  <thead>\n",
       "    <tr style=\"text-align: right;\">\n",
       "      <th></th>\n",
       "      <th>Date</th>\n",
       "      <th>Open</th>\n",
       "      <th>High</th>\n",
       "      <th>Low</th>\n",
       "      <th>Close</th>\n",
       "      <th>Adj Close</th>\n",
       "      <th>Volume</th>\n",
       "    </tr>\n",
       "  </thead>\n",
       "  <tbody>\n",
       "    <tr>\n",
       "      <th>0</th>\n",
       "      <td>9/17/2014</td>\n",
       "      <td>465.864014</td>\n",
       "      <td>468.174011</td>\n",
       "      <td>452.421997</td>\n",
       "      <td>457.334015</td>\n",
       "      <td>457.334015</td>\n",
       "      <td>21056800.0</td>\n",
       "    </tr>\n",
       "    <tr>\n",
       "      <th>1</th>\n",
       "      <td>9/18/2014</td>\n",
       "      <td>456.859985</td>\n",
       "      <td>456.859985</td>\n",
       "      <td>413.104004</td>\n",
       "      <td>424.440002</td>\n",
       "      <td>424.440002</td>\n",
       "      <td>34483200.0</td>\n",
       "    </tr>\n",
       "    <tr>\n",
       "      <th>2</th>\n",
       "      <td>9/19/2014</td>\n",
       "      <td>424.102997</td>\n",
       "      <td>427.834991</td>\n",
       "      <td>384.532013</td>\n",
       "      <td>394.795990</td>\n",
       "      <td>394.795990</td>\n",
       "      <td>37919700.0</td>\n",
       "    </tr>\n",
       "    <tr>\n",
       "      <th>3</th>\n",
       "      <td>9/20/2014</td>\n",
       "      <td>394.673004</td>\n",
       "      <td>423.295990</td>\n",
       "      <td>389.882996</td>\n",
       "      <td>408.903992</td>\n",
       "      <td>408.903992</td>\n",
       "      <td>36863600.0</td>\n",
       "    </tr>\n",
       "    <tr>\n",
       "      <th>4</th>\n",
       "      <td>9/21/2014</td>\n",
       "      <td>408.084991</td>\n",
       "      <td>412.425995</td>\n",
       "      <td>393.181000</td>\n",
       "      <td>398.821014</td>\n",
       "      <td>398.821014</td>\n",
       "      <td>26580100.0</td>\n",
       "    </tr>\n",
       "  </tbody>\n",
       "</table>\n",
       "</div>"
      ],
      "text/plain": [
       "        Date        Open        High         Low       Close   Adj Close  \\\n",
       "0  9/17/2014  465.864014  468.174011  452.421997  457.334015  457.334015   \n",
       "1  9/18/2014  456.859985  456.859985  413.104004  424.440002  424.440002   \n",
       "2  9/19/2014  424.102997  427.834991  384.532013  394.795990  394.795990   \n",
       "3  9/20/2014  394.673004  423.295990  389.882996  408.903992  408.903992   \n",
       "4  9/21/2014  408.084991  412.425995  393.181000  398.821014  398.821014   \n",
       "\n",
       "       Volume  \n",
       "0  21056800.0  \n",
       "1  34483200.0  \n",
       "2  37919700.0  \n",
       "3  36863600.0  \n",
       "4  26580100.0  "
      ]
     },
     "execution_count": 3,
     "metadata": {},
     "output_type": "execute_result"
    }
   ],
   "source": [
    "df = pd.read_csv('BTC-USD.csv')\n",
    "df.head()"
   ]
  },
  {
   "cell_type": "code",
   "execution_count": 4,
   "id": "b1eb56c9",
   "metadata": {},
   "outputs": [],
   "source": [
    "df['Date'] = pd.to_datetime(df['Date'])\n",
    "df.set_index('Date', inplace=True)"
   ]
  },
  {
   "cell_type": "code",
   "execution_count": 19,
   "id": "1c177626",
   "metadata": {},
   "outputs": [
    {
     "data": {
      "text/html": [
       "<div>\n",
       "<style scoped>\n",
       "    .dataframe tbody tr th:only-of-type {\n",
       "        vertical-align: middle;\n",
       "    }\n",
       "\n",
       "    .dataframe tbody tr th {\n",
       "        vertical-align: top;\n",
       "    }\n",
       "\n",
       "    .dataframe thead th {\n",
       "        text-align: right;\n",
       "    }\n",
       "</style>\n",
       "<table border=\"1\" class=\"dataframe\">\n",
       "  <thead>\n",
       "    <tr style=\"text-align: right;\">\n",
       "      <th></th>\n",
       "      <th>Open</th>\n",
       "      <th>High</th>\n",
       "      <th>Low</th>\n",
       "      <th>Close</th>\n",
       "      <th>Adj Close</th>\n",
       "      <th>Volume</th>\n",
       "    </tr>\n",
       "    <tr>\n",
       "      <th>Date</th>\n",
       "      <th></th>\n",
       "      <th></th>\n",
       "      <th></th>\n",
       "      <th></th>\n",
       "      <th></th>\n",
       "      <th></th>\n",
       "    </tr>\n",
       "  </thead>\n",
       "  <tbody>\n",
       "    <tr>\n",
       "      <th>2014-09-17</th>\n",
       "      <td>465.864014</td>\n",
       "      <td>468.174011</td>\n",
       "      <td>452.421997</td>\n",
       "      <td>457.334015</td>\n",
       "      <td>457.334015</td>\n",
       "      <td>2.105680e+07</td>\n",
       "    </tr>\n",
       "    <tr>\n",
       "      <th>2014-09-18</th>\n",
       "      <td>456.859985</td>\n",
       "      <td>456.859985</td>\n",
       "      <td>413.104004</td>\n",
       "      <td>424.440002</td>\n",
       "      <td>424.440002</td>\n",
       "      <td>3.448320e+07</td>\n",
       "    </tr>\n",
       "    <tr>\n",
       "      <th>2014-09-19</th>\n",
       "      <td>424.102997</td>\n",
       "      <td>427.834991</td>\n",
       "      <td>384.532013</td>\n",
       "      <td>394.795990</td>\n",
       "      <td>394.795990</td>\n",
       "      <td>3.791970e+07</td>\n",
       "    </tr>\n",
       "    <tr>\n",
       "      <th>2014-09-20</th>\n",
       "      <td>394.673004</td>\n",
       "      <td>423.295990</td>\n",
       "      <td>389.882996</td>\n",
       "      <td>408.903992</td>\n",
       "      <td>408.903992</td>\n",
       "      <td>3.686360e+07</td>\n",
       "    </tr>\n",
       "    <tr>\n",
       "      <th>2014-09-21</th>\n",
       "      <td>408.084991</td>\n",
       "      <td>412.425995</td>\n",
       "      <td>393.181000</td>\n",
       "      <td>398.821014</td>\n",
       "      <td>398.821014</td>\n",
       "      <td>2.658010e+07</td>\n",
       "    </tr>\n",
       "    <tr>\n",
       "      <th>...</th>\n",
       "      <td>...</td>\n",
       "      <td>...</td>\n",
       "      <td>...</td>\n",
       "      <td>...</td>\n",
       "      <td>...</td>\n",
       "      <td>...</td>\n",
       "    </tr>\n",
       "    <tr>\n",
       "      <th>2024-04-23</th>\n",
       "      <td>66839.890630</td>\n",
       "      <td>67199.242190</td>\n",
       "      <td>65864.867190</td>\n",
       "      <td>66407.273440</td>\n",
       "      <td>66407.273440</td>\n",
       "      <td>2.431098e+10</td>\n",
       "    </tr>\n",
       "    <tr>\n",
       "      <th>2024-04-24</th>\n",
       "      <td>66408.718750</td>\n",
       "      <td>67075.367190</td>\n",
       "      <td>63589.871090</td>\n",
       "      <td>64276.898440</td>\n",
       "      <td>64276.898440</td>\n",
       "      <td>3.027666e+10</td>\n",
       "    </tr>\n",
       "    <tr>\n",
       "      <th>2024-04-25</th>\n",
       "      <td>64275.019530</td>\n",
       "      <td>65275.207030</td>\n",
       "      <td>62783.632810</td>\n",
       "      <td>64481.707030</td>\n",
       "      <td>64481.707030</td>\n",
       "      <td>3.215579e+10</td>\n",
       "    </tr>\n",
       "    <tr>\n",
       "      <th>2024-04-26</th>\n",
       "      <td>64485.371090</td>\n",
       "      <td>64789.656250</td>\n",
       "      <td>63322.398440</td>\n",
       "      <td>63755.320310</td>\n",
       "      <td>63755.320310</td>\n",
       "      <td>2.413937e+10</td>\n",
       "    </tr>\n",
       "    <tr>\n",
       "      <th>2024-04-27</th>\n",
       "      <td>63753.121090</td>\n",
       "      <td>63885.769530</td>\n",
       "      <td>62581.515630</td>\n",
       "      <td>62839.320310</td>\n",
       "      <td>62839.320310</td>\n",
       "      <td>1.916508e+10</td>\n",
       "    </tr>\n",
       "  </tbody>\n",
       "</table>\n",
       "<p>3511 rows × 6 columns</p>\n",
       "</div>"
      ],
      "text/plain": [
       "                    Open          High           Low         Close  \\\n",
       "Date                                                                 \n",
       "2014-09-17    465.864014    468.174011    452.421997    457.334015   \n",
       "2014-09-18    456.859985    456.859985    413.104004    424.440002   \n",
       "2014-09-19    424.102997    427.834991    384.532013    394.795990   \n",
       "2014-09-20    394.673004    423.295990    389.882996    408.903992   \n",
       "2014-09-21    408.084991    412.425995    393.181000    398.821014   \n",
       "...                  ...           ...           ...           ...   \n",
       "2024-04-23  66839.890630  67199.242190  65864.867190  66407.273440   \n",
       "2024-04-24  66408.718750  67075.367190  63589.871090  64276.898440   \n",
       "2024-04-25  64275.019530  65275.207030  62783.632810  64481.707030   \n",
       "2024-04-26  64485.371090  64789.656250  63322.398440  63755.320310   \n",
       "2024-04-27  63753.121090  63885.769530  62581.515630  62839.320310   \n",
       "\n",
       "               Adj Close        Volume  \n",
       "Date                                    \n",
       "2014-09-17    457.334015  2.105680e+07  \n",
       "2014-09-18    424.440002  3.448320e+07  \n",
       "2014-09-19    394.795990  3.791970e+07  \n",
       "2014-09-20    408.903992  3.686360e+07  \n",
       "2014-09-21    398.821014  2.658010e+07  \n",
       "...                  ...           ...  \n",
       "2024-04-23  66407.273440  2.431098e+10  \n",
       "2024-04-24  64276.898440  3.027666e+10  \n",
       "2024-04-25  64481.707030  3.215579e+10  \n",
       "2024-04-26  63755.320310  2.413937e+10  \n",
       "2024-04-27  62839.320310  1.916508e+10  \n",
       "\n",
       "[3511 rows x 6 columns]"
      ]
     },
     "execution_count": 19,
     "metadata": {},
     "output_type": "execute_result"
    }
   ],
   "source": [
    "df"
   ]
  },
  {
   "cell_type": "code",
   "execution_count": 7,
   "id": "c7adaab8",
   "metadata": {},
   "outputs": [],
   "source": [
    "features = df[['Open', 'High', 'Low', 'Volume']]\n",
    "target = df['Close']"
   ]
  },
  {
   "cell_type": "code",
   "execution_count": 8,
   "id": "18eaa5ca",
   "metadata": {},
   "outputs": [],
   "source": [
    "scaler = MinMaxScaler()\n",
    "features_scaled = scaler.fit_transform(features)"
   ]
  },
  {
   "cell_type": "code",
   "execution_count": 9,
   "id": "d09c74c3",
   "metadata": {},
   "outputs": [
    {
     "data": {
      "text/plain": [
       "array([[3.96374745e-03, 3.48720151e-03, 3.94746772e-03, 4.31449169e-05],\n",
       "       [3.84023959e-03, 3.33334944e-03, 3.39495837e-03, 8.14009011e-05],\n",
       "       [3.39091346e-03, 2.93865744e-03, 2.99345536e-03, 9.11925571e-05],\n",
       "       ...,\n",
       "       [8.79231053e-01, 8.84755852e-01, 8.79846115e-01, 9.16049727e-02],\n",
       "       [8.82116436e-01, 8.78153163e-01, 8.87417026e-01, 6.87637194e-02],\n",
       "       [8.72072196e-01, 8.65861796e-01, 8.77005898e-01, 5.45904007e-02]])"
      ]
     },
     "execution_count": 9,
     "metadata": {},
     "output_type": "execute_result"
    }
   ],
   "source": [
    "features_scaled"
   ]
  },
  {
   "cell_type": "code",
   "execution_count": 11,
   "id": "4090de9e",
   "metadata": {},
   "outputs": [],
   "source": [
    "X_train, X_test, y_train, y_test = train_test_split(features_scaled, target, test_size=0.2, random_state=42)"
   ]
  },
  {
   "cell_type": "code",
   "execution_count": 12,
   "id": "36e13e27",
   "metadata": {},
   "outputs": [
    {
     "data": {
      "text/html": [
       "<style>#sk-container-id-1 {color: black;}#sk-container-id-1 pre{padding: 0;}#sk-container-id-1 div.sk-toggleable {background-color: white;}#sk-container-id-1 label.sk-toggleable__label {cursor: pointer;display: block;width: 100%;margin-bottom: 0;padding: 0.3em;box-sizing: border-box;text-align: center;}#sk-container-id-1 label.sk-toggleable__label-arrow:before {content: \"▸\";float: left;margin-right: 0.25em;color: #696969;}#sk-container-id-1 label.sk-toggleable__label-arrow:hover:before {color: black;}#sk-container-id-1 div.sk-estimator:hover label.sk-toggleable__label-arrow:before {color: black;}#sk-container-id-1 div.sk-toggleable__content {max-height: 0;max-width: 0;overflow: hidden;text-align: left;background-color: #f0f8ff;}#sk-container-id-1 div.sk-toggleable__content pre {margin: 0.2em;color: black;border-radius: 0.25em;background-color: #f0f8ff;}#sk-container-id-1 input.sk-toggleable__control:checked~div.sk-toggleable__content {max-height: 200px;max-width: 100%;overflow: auto;}#sk-container-id-1 input.sk-toggleable__control:checked~label.sk-toggleable__label-arrow:before {content: \"▾\";}#sk-container-id-1 div.sk-estimator input.sk-toggleable__control:checked~label.sk-toggleable__label {background-color: #d4ebff;}#sk-container-id-1 div.sk-label input.sk-toggleable__control:checked~label.sk-toggleable__label {background-color: #d4ebff;}#sk-container-id-1 input.sk-hidden--visually {border: 0;clip: rect(1px 1px 1px 1px);clip: rect(1px, 1px, 1px, 1px);height: 1px;margin: -1px;overflow: hidden;padding: 0;position: absolute;width: 1px;}#sk-container-id-1 div.sk-estimator {font-family: monospace;background-color: #f0f8ff;border: 1px dotted black;border-radius: 0.25em;box-sizing: border-box;margin-bottom: 0.5em;}#sk-container-id-1 div.sk-estimator:hover {background-color: #d4ebff;}#sk-container-id-1 div.sk-parallel-item::after {content: \"\";width: 100%;border-bottom: 1px solid gray;flex-grow: 1;}#sk-container-id-1 div.sk-label:hover label.sk-toggleable__label {background-color: #d4ebff;}#sk-container-id-1 div.sk-serial::before {content: \"\";position: absolute;border-left: 1px solid gray;box-sizing: border-box;top: 0;bottom: 0;left: 50%;z-index: 0;}#sk-container-id-1 div.sk-serial {display: flex;flex-direction: column;align-items: center;background-color: white;padding-right: 0.2em;padding-left: 0.2em;position: relative;}#sk-container-id-1 div.sk-item {position: relative;z-index: 1;}#sk-container-id-1 div.sk-parallel {display: flex;align-items: stretch;justify-content: center;background-color: white;position: relative;}#sk-container-id-1 div.sk-item::before, #sk-container-id-1 div.sk-parallel-item::before {content: \"\";position: absolute;border-left: 1px solid gray;box-sizing: border-box;top: 0;bottom: 0;left: 50%;z-index: -1;}#sk-container-id-1 div.sk-parallel-item {display: flex;flex-direction: column;z-index: 1;position: relative;background-color: white;}#sk-container-id-1 div.sk-parallel-item:first-child::after {align-self: flex-end;width: 50%;}#sk-container-id-1 div.sk-parallel-item:last-child::after {align-self: flex-start;width: 50%;}#sk-container-id-1 div.sk-parallel-item:only-child::after {width: 0;}#sk-container-id-1 div.sk-dashed-wrapped {border: 1px dashed gray;margin: 0 0.4em 0.5em 0.4em;box-sizing: border-box;padding-bottom: 0.4em;background-color: white;}#sk-container-id-1 div.sk-label label {font-family: monospace;font-weight: bold;display: inline-block;line-height: 1.2em;}#sk-container-id-1 div.sk-label-container {text-align: center;}#sk-container-id-1 div.sk-container {/* jupyter's `normalize.less` sets `[hidden] { display: none; }` but bootstrap.min.css set `[hidden] { display: none !important; }` so we also need the `!important` here to be able to override the default hidden behavior on the sphinx rendered scikit-learn.org. See: https://github.com/scikit-learn/scikit-learn/issues/21755 */display: inline-block !important;position: relative;}#sk-container-id-1 div.sk-text-repr-fallback {display: none;}</style><div id=\"sk-container-id-1\" class=\"sk-top-container\"><div class=\"sk-text-repr-fallback\"><pre>LinearRegression()</pre><b>In a Jupyter environment, please rerun this cell to show the HTML representation or trust the notebook. <br />On GitHub, the HTML representation is unable to render, please try loading this page with nbviewer.org.</b></div><div class=\"sk-container\" hidden><div class=\"sk-item\"><div class=\"sk-estimator sk-toggleable\"><input class=\"sk-toggleable__control sk-hidden--visually\" id=\"sk-estimator-id-1\" type=\"checkbox\" checked><label for=\"sk-estimator-id-1\" class=\"sk-toggleable__label sk-toggleable__label-arrow\">LinearRegression</label><div class=\"sk-toggleable__content\"><pre>LinearRegression()</pre></div></div></div></div></div>"
      ],
      "text/plain": [
       "LinearRegression()"
      ]
     },
     "execution_count": 12,
     "metadata": {},
     "output_type": "execute_result"
    }
   ],
   "source": [
    "model = LinearRegression()\n",
    "model.fit(X_train, y_train)"
   ]
  },
  {
   "cell_type": "code",
   "execution_count": 13,
   "id": "0fd61ce8",
   "metadata": {},
   "outputs": [
    {
     "name": "stdout",
     "output_type": "stream",
     "text": [
      "Mean Squared Error: 86298.58298079633\n"
     ]
    }
   ],
   "source": [
    "predict = model.predict(X_test)\n",
    "mse = mean_squared_error(y_test, predict)\n",
    "print('Mean Squared Error:' ,mse)"
   ]
  },
  {
   "cell_type": "code",
   "execution_count": 14,
   "id": "51216dfa",
   "metadata": {},
   "outputs": [
    {
     "name": "stdout",
     "output_type": "stream",
     "text": [
      "R2 Score 0.9996968623487388\n"
     ]
    }
   ],
   "source": [
    "r2 = r2_score(y_test,predict)\n",
    "print('R2 Score',r2)"
   ]
  },
  {
   "cell_type": "code",
   "execution_count": 20,
   "id": "e71b689c",
   "metadata": {},
   "outputs": [
    {
     "data": {
      "text/plain": [
       "array([62903.1301418])"
      ]
     },
     "execution_count": 20,
     "metadata": {},
     "output_type": "execute_result"
    }
   ],
   "source": [
    "model.predict([[8.72072196e-01, 8.65861796e-01, 8.77005898e-01, 5.45904007e-02]])"
   ]
  },
  {
   "cell_type": "code",
   "execution_count": 81,
   "id": "9ed84fe6",
   "metadata": {},
   "outputs": [],
   "source": [
    "import numpy as np\n",
    "def predict(o,h,l,v):\n",
    "#     ope = float(input(\"Enter the Open value: \"))\n",
    "#     high = float(input(\"Enter the High value: \"))\n",
    "#     low = float(input(\"Enter the Low value: \"))\n",
    "#     vol = float(input(\"Enter the Volume value: \"))\n",
    "    f = [[o,h,l,v]]\n",
    "    print(type(f))\n",
    "    print(f)\n",
    "#     f = [ope,high,low,vol]\n",
    "#     f.reshape(-1,1)\n",
    "    print(type(f))\n",
    "    print(f)\n",
    "    scaled = scaler.fit_transform(f)\n",
    "#     scaled.reshape(1,-1)\n",
    "    print(scaled)\n",
    "    result = model.predict(scaled)\n",
    "    print(\"Result\",result)"
   ]
  },
  {
   "cell_type": "code",
   "execution_count": 82,
   "id": "e6a6b4c8",
   "metadata": {},
   "outputs": [
    {
     "name": "stdout",
     "output_type": "stream",
     "text": [
      "<class 'list'>\n",
      "[[465, 468, 452, 23456789]]\n",
      "<class 'list'>\n",
      "[[465, 468, 452, 23456789]]\n",
      "[[0. 0. 0. 0.]]\n",
      "Result [204.25377727]\n"
     ]
    }
   ],
   "source": [
    "predict(465,468,452,23456789)"
   ]
  }
 ],
 "metadata": {
  "kernelspec": {
   "display_name": "Python 3 (ipykernel)",
   "language": "python",
   "name": "python3"
  },
  "language_info": {
   "codemirror_mode": {
    "name": "ipython",
    "version": 3
   },
   "file_extension": ".py",
   "mimetype": "text/x-python",
   "name": "python",
   "nbconvert_exporter": "python",
   "pygments_lexer": "ipython3",
   "version": "3.11.5"
  }
 },
 "nbformat": 4,
 "nbformat_minor": 5
}
