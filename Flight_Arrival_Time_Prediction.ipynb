{
 "cells": [
  {
   "cell_type": "code",
   "execution_count": 2,
   "id": "9082d8d2",
   "metadata": {},
   "outputs": [],
   "source": [
    "import pandas as pd\n",
    "import os\n",
    "from sklearn.linear_model import LinearRegression\n",
    "from sklearn.model_selection import train_test_split\n",
    "from sklearn.metrics import r2_score, mean_squared_error"
   ]
  },
  {
   "cell_type": "code",
   "execution_count": 3,
   "id": "26d9c275",
   "metadata": {},
   "outputs": [],
   "source": [
    "os.chdir('dataset')"
   ]
  },
  {
   "cell_type": "code",
   "execution_count": 4,
   "id": "6ab98b33",
   "metadata": {},
   "outputs": [
    {
     "data": {
      "text/html": [
       "<div>\n",
       "<style scoped>\n",
       "    .dataframe tbody tr th:only-of-type {\n",
       "        vertical-align: middle;\n",
       "    }\n",
       "\n",
       "    .dataframe tbody tr th {\n",
       "        vertical-align: top;\n",
       "    }\n",
       "\n",
       "    .dataframe thead th {\n",
       "        text-align: right;\n",
       "    }\n",
       "</style>\n",
       "<table border=\"1\" class=\"dataframe\">\n",
       "  <thead>\n",
       "    <tr style=\"text-align: right;\">\n",
       "      <th></th>\n",
       "      <th>DEPARTURE_TIME</th>\n",
       "      <th>WHEELS_OFF</th>\n",
       "      <th>AIR_TIME</th>\n",
       "      <th>DISTANCE</th>\n",
       "      <th>ARRIVAL_TIME</th>\n",
       "    </tr>\n",
       "  </thead>\n",
       "  <tbody>\n",
       "    <tr>\n",
       "      <th>0</th>\n",
       "      <td>545</td>\n",
       "      <td>556</td>\n",
       "      <td>65</td>\n",
       "      <td>413</td>\n",
       "      <td>705</td>\n",
       "    </tr>\n",
       "    <tr>\n",
       "      <th>1</th>\n",
       "      <td>1618</td>\n",
       "      <td>1634</td>\n",
       "      <td>73</td>\n",
       "      <td>554</td>\n",
       "      <td>1752</td>\n",
       "    </tr>\n",
       "    <tr>\n",
       "      <th>2</th>\n",
       "      <td>1519</td>\n",
       "      <td>1529</td>\n",
       "      <td>147</td>\n",
       "      <td>1024</td>\n",
       "      <td>1702</td>\n",
       "    </tr>\n",
       "    <tr>\n",
       "      <th>3</th>\n",
       "      <td>1258</td>\n",
       "      <td>1315</td>\n",
       "      <td>51</td>\n",
       "      <td>331</td>\n",
       "      <td>1410</td>\n",
       "    </tr>\n",
       "    <tr>\n",
       "      <th>4</th>\n",
       "      <td>638</td>\n",
       "      <td>645</td>\n",
       "      <td>127</td>\n",
       "      <td>889</td>\n",
       "      <td>758</td>\n",
       "    </tr>\n",
       "  </tbody>\n",
       "</table>\n",
       "</div>"
      ],
      "text/plain": [
       "   DEPARTURE_TIME  WHEELS_OFF  AIR_TIME  DISTANCE  ARRIVAL_TIME\n",
       "0             545         556        65       413           705\n",
       "1            1618        1634        73       554          1752\n",
       "2            1519        1529       147      1024          1702\n",
       "3            1258        1315        51       331          1410\n",
       "4             638         645       127       889           758"
      ]
     },
     "execution_count": 4,
     "metadata": {},
     "output_type": "execute_result"
    }
   ],
   "source": [
    "df = pd.read_csv('FLIGHT100k.csv')\n",
    "df.head()"
   ]
  },
  {
   "cell_type": "code",
   "execution_count": 5,
   "id": "04c7456e",
   "metadata": {},
   "outputs": [
    {
     "data": {
      "text/plain": [
       "(100000, 4)"
      ]
     },
     "execution_count": 5,
     "metadata": {},
     "output_type": "execute_result"
    }
   ],
   "source": [
    "X = df.drop('ARRIVAL_TIME',axis=1)\n",
    "X.shape"
   ]
  },
  {
   "cell_type": "code",
   "execution_count": 6,
   "id": "740d3c04",
   "metadata": {},
   "outputs": [],
   "source": [
    "y=df['ARRIVAL_TIME']"
   ]
  },
  {
   "cell_type": "code",
   "execution_count": 7,
   "id": "e2e7e997",
   "metadata": {},
   "outputs": [],
   "source": [
    "X_train,X_test,y_train,y_test=train_test_split(X,y,test_size=0.3,random_state=42)"
   ]
  },
  {
   "cell_type": "code",
   "execution_count": 8,
   "id": "c37698eb",
   "metadata": {},
   "outputs": [],
   "source": [
    "model=LinearRegression()\n",
    "model.fit(X_train,y_train)\n",
    "y_pred=model.predict(X_test)"
   ]
  },
  {
   "cell_type": "code",
   "execution_count": 20,
   "id": "46853a22",
   "metadata": {},
   "outputs": [
    {
     "name": "stdout",
     "output_type": "stream",
     "text": [
      "Mean Squared Error: 153236.01322080626\n",
      "R-Squared:  -0.2716026660716957\n"
     ]
    }
   ],
   "source": [
    "print(\"Mean Squared Error:\",mean_squared_error(y_pred,y_test))\n",
    "print(\"R-Squared: \",r2_score(y_pred,y_test))"
   ]
  },
  {
   "cell_type": "code",
   "execution_count": 21,
   "id": "2a1dbccd",
   "metadata": {},
   "outputs": [
    {
     "data": {
      "text/html": [
       "<style>#sk-container-id-2 {color: black;}#sk-container-id-2 pre{padding: 0;}#sk-container-id-2 div.sk-toggleable {background-color: white;}#sk-container-id-2 label.sk-toggleable__label {cursor: pointer;display: block;width: 100%;margin-bottom: 0;padding: 0.3em;box-sizing: border-box;text-align: center;}#sk-container-id-2 label.sk-toggleable__label-arrow:before {content: \"▸\";float: left;margin-right: 0.25em;color: #696969;}#sk-container-id-2 label.sk-toggleable__label-arrow:hover:before {color: black;}#sk-container-id-2 div.sk-estimator:hover label.sk-toggleable__label-arrow:before {color: black;}#sk-container-id-2 div.sk-toggleable__content {max-height: 0;max-width: 0;overflow: hidden;text-align: left;background-color: #f0f8ff;}#sk-container-id-2 div.sk-toggleable__content pre {margin: 0.2em;color: black;border-radius: 0.25em;background-color: #f0f8ff;}#sk-container-id-2 input.sk-toggleable__control:checked~div.sk-toggleable__content {max-height: 200px;max-width: 100%;overflow: auto;}#sk-container-id-2 input.sk-toggleable__control:checked~label.sk-toggleable__label-arrow:before {content: \"▾\";}#sk-container-id-2 div.sk-estimator input.sk-toggleable__control:checked~label.sk-toggleable__label {background-color: #d4ebff;}#sk-container-id-2 div.sk-label input.sk-toggleable__control:checked~label.sk-toggleable__label {background-color: #d4ebff;}#sk-container-id-2 input.sk-hidden--visually {border: 0;clip: rect(1px 1px 1px 1px);clip: rect(1px, 1px, 1px, 1px);height: 1px;margin: -1px;overflow: hidden;padding: 0;position: absolute;width: 1px;}#sk-container-id-2 div.sk-estimator {font-family: monospace;background-color: #f0f8ff;border: 1px dotted black;border-radius: 0.25em;box-sizing: border-box;margin-bottom: 0.5em;}#sk-container-id-2 div.sk-estimator:hover {background-color: #d4ebff;}#sk-container-id-2 div.sk-parallel-item::after {content: \"\";width: 100%;border-bottom: 1px solid gray;flex-grow: 1;}#sk-container-id-2 div.sk-label:hover label.sk-toggleable__label {background-color: #d4ebff;}#sk-container-id-2 div.sk-serial::before {content: \"\";position: absolute;border-left: 1px solid gray;box-sizing: border-box;top: 0;bottom: 0;left: 50%;z-index: 0;}#sk-container-id-2 div.sk-serial {display: flex;flex-direction: column;align-items: center;background-color: white;padding-right: 0.2em;padding-left: 0.2em;position: relative;}#sk-container-id-2 div.sk-item {position: relative;z-index: 1;}#sk-container-id-2 div.sk-parallel {display: flex;align-items: stretch;justify-content: center;background-color: white;position: relative;}#sk-container-id-2 div.sk-item::before, #sk-container-id-2 div.sk-parallel-item::before {content: \"\";position: absolute;border-left: 1px solid gray;box-sizing: border-box;top: 0;bottom: 0;left: 50%;z-index: -1;}#sk-container-id-2 div.sk-parallel-item {display: flex;flex-direction: column;z-index: 1;position: relative;background-color: white;}#sk-container-id-2 div.sk-parallel-item:first-child::after {align-self: flex-end;width: 50%;}#sk-container-id-2 div.sk-parallel-item:last-child::after {align-self: flex-start;width: 50%;}#sk-container-id-2 div.sk-parallel-item:only-child::after {width: 0;}#sk-container-id-2 div.sk-dashed-wrapped {border: 1px dashed gray;margin: 0 0.4em 0.5em 0.4em;box-sizing: border-box;padding-bottom: 0.4em;background-color: white;}#sk-container-id-2 div.sk-label label {font-family: monospace;font-weight: bold;display: inline-block;line-height: 1.2em;}#sk-container-id-2 div.sk-label-container {text-align: center;}#sk-container-id-2 div.sk-container {/* jupyter's `normalize.less` sets `[hidden] { display: none; }` but bootstrap.min.css set `[hidden] { display: none !important; }` so we also need the `!important` here to be able to override the default hidden behavior on the sphinx rendered scikit-learn.org. See: https://github.com/scikit-learn/scikit-learn/issues/21755 */display: inline-block !important;position: relative;}#sk-container-id-2 div.sk-text-repr-fallback {display: none;}</style><div id=\"sk-container-id-2\" class=\"sk-top-container\"><div class=\"sk-text-repr-fallback\"><pre>SGDRegressor(eta0=0.1, penalty=None)</pre><b>In a Jupyter environment, please rerun this cell to show the HTML representation or trust the notebook. <br />On GitHub, the HTML representation is unable to render, please try loading this page with nbviewer.org.</b></div><div class=\"sk-container\" hidden><div class=\"sk-item\"><div class=\"sk-estimator sk-toggleable\"><input class=\"sk-toggleable__control sk-hidden--visually\" id=\"sk-estimator-id-2\" type=\"checkbox\" checked><label for=\"sk-estimator-id-2\" class=\"sk-toggleable__label sk-toggleable__label-arrow\">SGDRegressor</label><div class=\"sk-toggleable__content\"><pre>SGDRegressor(eta0=0.1, penalty=None)</pre></div></div></div></div></div>"
      ],
      "text/plain": [
       "SGDRegressor(eta0=0.1, penalty=None)"
      ]
     },
     "execution_count": 21,
     "metadata": {},
     "output_type": "execute_result"
    }
   ],
   "source": [
    "from sklearn.linear_model import SGDRegressor\n",
    "\n",
    "sgd_reg = SGDRegressor(max_iter=1000, tol=1e-3, penalty=None, eta0=0.1)\n",
    "sgd_reg.fit(X, y.ravel())"
   ]
  },
  {
   "cell_type": "code",
   "execution_count": 22,
   "id": "636a72cd",
   "metadata": {},
   "outputs": [
    {
     "data": {
      "text/plain": [
       "(array([-5.97111803e+11]),\n",
       " array([-1.26602415e+12, -1.96841586e+12, -3.86050675e+11, -1.90826788e+12]))"
      ]
     },
     "execution_count": 22,
     "metadata": {},
     "output_type": "execute_result"
    }
   ],
   "source": [
    "sgd_reg.intercept_, sgd_reg.coef_"
   ]
  },
  {
   "cell_type": "markdown",
   "id": "e7aebcb5",
   "metadata": {},
   "source": [
    "### As the linear Model is performing very poorly and the data has multicollinearity so lets try Rigid and Lesso Regression which handles multicollinearity and avoid overfitting"
   ]
  },
  {
   "cell_type": "code",
   "execution_count": 24,
   "id": "ea2fe4f2",
   "metadata": {},
   "outputs": [],
   "source": [
    "from sklearn.linear_model import Ridge, Lasso, ElasticNet\n",
    "from sklearn.preprocessing import StandardScaler\n",
    "from sklearn.pipeline import make_pipeline"
   ]
  },
  {
   "cell_type": "code",
   "execution_count": 27,
   "id": "57939548",
   "metadata": {},
   "outputs": [
    {
     "name": "stdout",
     "output_type": "stream",
     "text": [
      "Ridge Regression R-Squared: 0.44823605677126266\n"
     ]
    }
   ],
   "source": [
    "ridge_model = make_pipeline(StandardScaler(), Ridge(alpha=1.0))\n",
    "ridge_model.fit(X_train, y_train)\n",
    "ridge_r2 = ridge_model.score(X_test, y_test)\n",
    "\n",
    "print(\"Ridge Regression R-Squared:\", ridge_r2)"
   ]
  },
  {
   "cell_type": "code",
   "execution_count": 28,
   "id": "79607a0a",
   "metadata": {},
   "outputs": [
    {
     "name": "stdout",
     "output_type": "stream",
     "text": [
      "Lasso Regression R-Squared: 0.4482098229234073\n"
     ]
    }
   ],
   "source": [
    "lasso_model = make_pipeline(StandardScaler(), Lasso(alpha=0.1))\n",
    "lasso_model.fit(X_train, y_train)\n",
    "lasso_r2 = lasso_model.score(X_test, y_test)\n",
    "\n",
    "print(\"Lasso Regression R-Squared:\", lasso_r2)"
   ]
  },
  {
   "cell_type": "code",
   "execution_count": 29,
   "id": "f7302dd0",
   "metadata": {},
   "outputs": [
    {
     "name": "stdout",
     "output_type": "stream",
     "text": [
      "Elastic Net Regression R-Squared: 0.44361454055513416\n"
     ]
    }
   ],
   "source": [
    "elastic_net_model = make_pipeline(StandardScaler(), ElasticNet(alpha=0.1, l1_ratio=0.5))\n",
    "elastic_net_model.fit(X_train, y_train)\n",
    "elastic_net_r2 = elastic_net_model.score(X_test, y_test)\n",
    "\n",
    "print(\"Elastic Net Regression R-Squared:\", elastic_net_r2)"
   ]
  },
  {
   "cell_type": "markdown",
   "id": "76474c24",
   "metadata": {},
   "source": [
    "hyperpremeter changing for the rigid regression for better r2 score"
   ]
  },
  {
   "cell_type": "code",
   "execution_count": 30,
   "id": "b3298c75",
   "metadata": {},
   "outputs": [
    {
     "name": "stdout",
     "output_type": "stream",
     "text": [
      "Best Ridge Regression R-Squared: 0.44823119572574577\n",
      "Best Ridge Alpha: {'ridge__alpha': 10.0}\n"
     ]
    }
   ],
   "source": [
    "from sklearn.model_selection import GridSearchCV\n",
    "\n",
    "param_grid = {'ridge__alpha': [0.1, 1.0, 10.0, 100.0]}\n",
    "ridge_cv = GridSearchCV(ridge_model, param_grid, cv=5)\n",
    "ridge_cv.fit(X_train, y_train)\n",
    "best_ridge_r2 = ridge_cv.score(X_test, y_test)\n",
    "\n",
    "print(\"Best Ridge Regression R-Squared:\", best_ridge_r2)\n",
    "print(\"Best Ridge Alpha:\", ridge_cv.best_params_)"
   ]
  },
  {
   "cell_type": "markdown",
   "id": "9f1eae0e",
   "metadata": {},
   "source": [
    "## As the linear regression models are performing poorly, lets try non-linear Model for prediction"
   ]
  },
  {
   "cell_type": "code",
   "execution_count": 31,
   "id": "5ed44489",
   "metadata": {},
   "outputs": [
    {
     "name": "stdout",
     "output_type": "stream",
     "text": [
      "Random Forest R-Squared: 0.8178779006486758\n"
     ]
    }
   ],
   "source": [
    "from sklearn.ensemble import RandomForestRegressor\n",
    "\n",
    "rf_model = RandomForestRegressor(n_estimators=100)\n",
    "rf_model.fit(X_train, y_train)\n",
    "rf_r2 = rf_model.score(X_test, y_test)\n",
    "\n",
    "print(\"Random Forest R-Squared:\", rf_r2)"
   ]
  },
  {
   "cell_type": "markdown",
   "id": "83ae53df",
   "metadata": {},
   "source": [
    "much better then linear models"
   ]
  },
  {
   "cell_type": "code",
   "execution_count": 32,
   "id": "666b6674",
   "metadata": {},
   "outputs": [
    {
     "name": "stderr",
     "output_type": "stream",
     "text": [
      "C:\\Users\\wali\\anaconda3\\Lib\\site-packages\\sklearn\\base.py:464: UserWarning: X does not have valid feature names, but RandomForestRegressor was fitted with feature names\n",
      "  warnings.warn(\n"
     ]
    },
    {
     "data": {
      "text/plain": [
       "array([1403.46])"
      ]
     },
     "execution_count": 32,
     "metadata": {},
     "output_type": "execute_result"
    }
   ],
   "source": [
    "rf_model.predict([[1245,1245,100,602]])"
   ]
  },
  {
   "cell_type": "code",
   "execution_count": 37,
   "id": "f2fc13d9",
   "metadata": {},
   "outputs": [],
   "source": [
    "def PredictArrival_Time():\n",
    "    DEPARTURE_TIME=int(input(\"Enter the DEPARTURE TIME \"))\n",
    "    WHEELS_OFF=int(input(\"Enter the WHEELS OFF TIME \"))\n",
    "    AIR_TIME=int(input(\"Enter the AIR TIME \"))\n",
    "    DISTANCE=int(input(\"Enter the DISTANCE in km \"))\n",
    "    \n",
    "    features=[[DEPARTURE_TIME,WHEELS_OFF,AIR_TIME,DISTANCE]]\n",
    "    predict=rf_model.predict(features)\n",
    "    print(\"ARRIVAL TIME:\",predict[0])\n",
    "    print(\"ELASPED TIME:\",predict[0]-DEPARTURE_TIME)"
   ]
  },
  {
   "cell_type": "code",
   "execution_count": 38,
   "id": "a563a420",
   "metadata": {},
   "outputs": [
    {
     "name": "stdout",
     "output_type": "stream",
     "text": [
      "Enter the DEPARTURE TIME 553\n",
      "Enter the WHEELS OFF TIME 556\n",
      "Enter the AIR TIME 65\n",
      "Enter the DISTANCE in km 413\n",
      "ARRIVAL TIME: 698.86\n",
      "ELASPED TIME: 145.86\n"
     ]
    },
    {
     "name": "stderr",
     "output_type": "stream",
     "text": [
      "C:\\Users\\wali\\anaconda3\\Lib\\site-packages\\sklearn\\base.py:464: UserWarning: X does not have valid feature names, but RandomForestRegressor was fitted with feature names\n",
      "  warnings.warn(\n"
     ]
    }
   ],
   "source": [
    "PredictArrival_Time()"
   ]
  }
 ],
 "metadata": {
  "kernelspec": {
   "display_name": "Python 3 (ipykernel)",
   "language": "python",
   "name": "python3"
  },
  "language_info": {
   "codemirror_mode": {
    "name": "ipython",
    "version": 3
   },
   "file_extension": ".py",
   "mimetype": "text/x-python",
   "name": "python",
   "nbconvert_exporter": "python",
   "pygments_lexer": "ipython3",
   "version": "3.11.5"
  }
 },
 "nbformat": 4,
 "nbformat_minor": 5
}
