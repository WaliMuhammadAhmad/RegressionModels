{
 "cells": [
  {
   "cell_type": "code",
   "execution_count": 1,
   "id": "9082d8d2",
   "metadata": {},
   "outputs": [],
   "source": [
    "import pandas as pd\n",
    "import os\n",
    "from sklearn.linear_model import LinearRegression\n",
    "from sklearn.model_selection import train_test_split\n",
    "from sklearn.metrics import r2_score, mean_squared_error"
   ]
  },
  {
   "cell_type": "code",
   "execution_count": 2,
   "id": "26d9c275",
   "metadata": {},
   "outputs": [],
   "source": [
    "os.chdir('dataset')"
   ]
  },
  {
   "cell_type": "code",
   "execution_count": 3,
   "id": "6ab98b33",
   "metadata": {},
   "outputs": [
    {
     "data": {
      "text/html": [
       "<div>\n",
       "<style scoped>\n",
       "    .dataframe tbody tr th:only-of-type {\n",
       "        vertical-align: middle;\n",
       "    }\n",
       "\n",
       "    .dataframe tbody tr th {\n",
       "        vertical-align: top;\n",
       "    }\n",
       "\n",
       "    .dataframe thead th {\n",
       "        text-align: right;\n",
       "    }\n",
       "</style>\n",
       "<table border=\"1\" class=\"dataframe\">\n",
       "  <thead>\n",
       "    <tr style=\"text-align: right;\">\n",
       "      <th></th>\n",
       "      <th>SCHEDULED_DEPARTURE</th>\n",
       "      <th>DEPARTURE_TIME</th>\n",
       "      <th>WHEELS_OFF</th>\n",
       "      <th>AIR_TIME</th>\n",
       "      <th>DISTANCE</th>\n",
       "      <th>ARRIVAL_TIME</th>\n",
       "    </tr>\n",
       "  </thead>\n",
       "  <tbody>\n",
       "    <tr>\n",
       "      <th>0</th>\n",
       "      <td>545</td>\n",
       "      <td>545</td>\n",
       "      <td>556</td>\n",
       "      <td>65</td>\n",
       "      <td>413</td>\n",
       "      <td>705</td>\n",
       "    </tr>\n",
       "    <tr>\n",
       "      <th>1</th>\n",
       "      <td>1620</td>\n",
       "      <td>1618</td>\n",
       "      <td>1634</td>\n",
       "      <td>73</td>\n",
       "      <td>554</td>\n",
       "      <td>1752</td>\n",
       "    </tr>\n",
       "    <tr>\n",
       "      <th>2</th>\n",
       "      <td>1513</td>\n",
       "      <td>1519</td>\n",
       "      <td>1529</td>\n",
       "      <td>147</td>\n",
       "      <td>1024</td>\n",
       "      <td>1702</td>\n",
       "    </tr>\n",
       "    <tr>\n",
       "      <th>3</th>\n",
       "      <td>1302</td>\n",
       "      <td>1258</td>\n",
       "      <td>1315</td>\n",
       "      <td>51</td>\n",
       "      <td>331</td>\n",
       "      <td>1410</td>\n",
       "    </tr>\n",
       "    <tr>\n",
       "      <th>4</th>\n",
       "      <td>645</td>\n",
       "      <td>638</td>\n",
       "      <td>645</td>\n",
       "      <td>127</td>\n",
       "      <td>889</td>\n",
       "      <td>758</td>\n",
       "    </tr>\n",
       "  </tbody>\n",
       "</table>\n",
       "</div>"
      ],
      "text/plain": [
       "   SCHEDULED_DEPARTURE  DEPARTURE_TIME  WHEELS_OFF  AIR_TIME  DISTANCE  \\\n",
       "0                  545             545         556        65       413   \n",
       "1                 1620            1618        1634        73       554   \n",
       "2                 1513            1519        1529       147      1024   \n",
       "3                 1302            1258        1315        51       331   \n",
       "4                  645             638         645       127       889   \n",
       "\n",
       "   ARRIVAL_TIME  \n",
       "0           705  \n",
       "1          1752  \n",
       "2          1702  \n",
       "3          1410  \n",
       "4           758  "
      ]
     },
     "execution_count": 3,
     "metadata": {},
     "output_type": "execute_result"
    }
   ],
   "source": [
    "df = pd.read_csv('FLIGHT100k.csv')\n",
    "df.head()"
   ]
  },
  {
   "cell_type": "code",
   "execution_count": 4,
   "id": "04c7456e",
   "metadata": {},
   "outputs": [
    {
     "data": {
      "text/plain": [
       "(100000, 5)"
      ]
     },
     "execution_count": 4,
     "metadata": {},
     "output_type": "execute_result"
    }
   ],
   "source": [
    "X = df.drop('ARRIVAL_TIME',axis=1)\n",
    "X.shape"
   ]
  },
  {
   "cell_type": "code",
   "execution_count": 5,
   "id": "740d3c04",
   "metadata": {},
   "outputs": [],
   "source": [
    "y=df['ARRIVAL_TIME']"
   ]
  },
  {
   "cell_type": "code",
   "execution_count": 6,
   "id": "e2e7e997",
   "metadata": {},
   "outputs": [],
   "source": [
    "X_train,X_test,y_train,y_test=train_test_split(X,y,test_size=0.3,random_state=42)"
   ]
  },
  {
   "cell_type": "code",
   "execution_count": 7,
   "id": "c37698eb",
   "metadata": {},
   "outputs": [],
   "source": [
    "model=LinearRegression()\n",
    "model.fit(X_train,y_train)\n",
    "y_pred=model.predict(X_test)"
   ]
  },
  {
   "cell_type": "code",
   "execution_count": 8,
   "id": "46853a22",
   "metadata": {},
   "outputs": [
    {
     "name": "stdout",
     "output_type": "stream",
     "text": [
      "Mean Squared Error: 153206.12502970418\n"
     ]
    }
   ],
   "source": [
    "print(\"Mean Squared Error:\",mean_squared_error(y_pred,y_test))"
   ]
  },
  {
   "cell_type": "code",
   "execution_count": 9,
   "id": "b3298c75",
   "metadata": {},
   "outputs": [
    {
     "name": "stdout",
     "output_type": "stream",
     "text": [
      "R-Squared:  -0.27000403406250806\n"
     ]
    }
   ],
   "source": [
    "print(\"R-Squared: \",r2_score(y_pred,y_test))"
   ]
  },
  {
   "cell_type": "code",
   "execution_count": 10,
   "id": "666b6674",
   "metadata": {},
   "outputs": [
    {
     "name": "stderr",
     "output_type": "stream",
     "text": [
      "C:\\Users\\wali\\anaconda3\\Lib\\site-packages\\sklearn\\base.py:464: UserWarning: X does not have valid feature names, but LinearRegression was fitted with feature names\n",
      "  warnings.warn(\n"
     ]
    },
    {
     "data": {
      "text/plain": [
       "array([1410.74475933])"
      ]
     },
     "execution_count": 10,
     "metadata": {},
     "output_type": "execute_result"
    }
   ],
   "source": [
    "model.predict([[1234,1245,1245,100,602]])"
   ]
  },
  {
   "cell_type": "code",
   "execution_count": 11,
   "id": "f2fc13d9",
   "metadata": {},
   "outputs": [],
   "source": [
    "def PredictArrival_Time():\n",
    "    SCHEDULED_DEPARTURE=int(input(\"Enter the SCHEDULED DEPARTURE TIME \"))\n",
    "    DEPARTURE_TIME=int(input(\"Enter the DEPARTURE TIME \"))\n",
    "    WHEELS_OFF=int(input(\"Enter the WHEELS OFF TIME \"))\n",
    "    AIR_TIME=int(input(\"Enter the AIR TIME \"))\n",
    "    DISTANCE=int(input(\"Enter the DISTANCE in km \"))\n",
    "    \n",
    "    features=[[SCHEDULED_DEPARTURE,DEPARTURE_TIME,WHEELS_OFF,AIR_TIME,DISTANCE]]\n",
    "    predict=model.predict(features)\n",
    "    print(\"ARRIVAL TIME:\",predict[0])\n",
    "    print(\"DEPARTURE DELAY:\",DEPARTURE_TIME-SCHEDULED_DEPARTURE)\n",
    "    print(\"ELASPED TIME:\",predict[0]-DEPARTURE_TIME)"
   ]
  },
  {
   "cell_type": "code",
   "execution_count": 13,
   "id": "a563a420",
   "metadata": {},
   "outputs": [
    {
     "name": "stdout",
     "output_type": "stream",
     "text": [
      "Enter the SCHEDULED DEPARTURE TIME 545\n",
      "Enter the DEPARTURE TIME 545\n",
      "Enter the WHEELS OFF TIME 556\n",
      "Enter the AIR TIME 65\n",
      "Enter the DISTANCE in km 413\n",
      "ARRIVAL TIME: 903.2363694674407\n",
      "DEPARTURE DELAY: 0\n",
      "ELASPED TIME: 358.2363694674407\n"
     ]
    },
    {
     "name": "stderr",
     "output_type": "stream",
     "text": [
      "C:\\Users\\wali\\anaconda3\\Lib\\site-packages\\sklearn\\base.py:464: UserWarning: X does not have valid feature names, but LinearRegression was fitted with feature names\n",
      "  warnings.warn(\n"
     ]
    }
   ],
   "source": [
    "PredictArrival_Time()"
   ]
  }
 ],
 "metadata": {
  "kernelspec": {
   "display_name": "Python 3 (ipykernel)",
   "language": "python",
   "name": "python3"
  },
  "language_info": {
   "codemirror_mode": {
    "name": "ipython",
    "version": 3
   },
   "file_extension": ".py",
   "mimetype": "text/x-python",
   "name": "python",
   "nbconvert_exporter": "python",
   "pygments_lexer": "ipython3",
   "version": "3.11.5"
  }
 },
 "nbformat": 4,
 "nbformat_minor": 5
}
